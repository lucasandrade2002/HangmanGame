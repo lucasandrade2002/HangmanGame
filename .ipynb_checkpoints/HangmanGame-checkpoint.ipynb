{
 "cells": [
  {
   "cell_type": "markdown",
   "id": "6a7d91e9",
   "metadata": {},
   "source": [
    "### Jogo da Forca"
   ]
  },
  {
   "cell_type": "code",
   "execution_count": 3,
   "id": "7f49947d",
   "metadata": {},
   "outputs": [],
   "source": [
    "import random\n",
    "from core_functions import getWords, getAttemptUser"
   ]
  },
  {
   "cell_type": "code",
   "execution_count": 4,
   "id": "3761485f",
   "metadata": {},
   "outputs": [],
   "source": [
    "class HangmanGame():\n",
    "    \n",
    "    def __init__(self):\n",
    "        \n",
    "        self.forca = [\"\"\"\n",
    "                         -------\n",
    "                         |     |\n",
    "                         |          \n",
    "                         |\n",
    "                         |\n",
    "                         |\n",
    "                         \n",
    "                      \"\"\",\n",
    "            \n",
    "                      \"\"\"\n",
    "                         -------\n",
    "                         |     |\n",
    "                         |     O     \n",
    "                         |\n",
    "                         |\n",
    "                         |\n",
    "                         \n",
    "                      \"\"\",\n",
    "                      \n",
    "                      \"\"\"\n",
    "                         -------\n",
    "                         |     |\n",
    "                         |     O\n",
    "                         |     | \n",
    "                         |\n",
    "                         |\n",
    "                         \n",
    "                      \"\"\",\n",
    "                      \n",
    "                      r\"\"\"\n",
    "                         -------\n",
    "                         |     |\n",
    "                         |     O\n",
    "                         |     |\\\n",
    "                         |     |\n",
    "                         |\n",
    "                         \n",
    "                      \"\"\",\n",
    "                \n",
    "                      r\"\"\"\n",
    "                         -------\n",
    "                         |     |\n",
    "                         |     O\n",
    "                         |    /|\\\n",
    "                         |     |\n",
    "                         |\n",
    "                         \n",
    "                      \"\"\",\n",
    "                \n",
    "                      r\"\"\"\n",
    "                         -------\n",
    "                         |     |\n",
    "                         |     O\n",
    "                         |    /|\\\n",
    "                         |     |\n",
    "                         |    / \n",
    "                      \n",
    "                      \"\"\",\n",
    "                 \n",
    "                      r\"\"\"\n",
    "                         -------\n",
    "                         |     |\n",
    "                         |     O\n",
    "                         |    /|\\\n",
    "                         |     |\n",
    "                         |    / \\ \n",
    "                         \n",
    "                       \"\"\"]     \n",
    "    \n",
    "    def playGame(self):\n",
    "        \n",
    "        words = getWords()\n",
    "        discover = random.choice(words)\n",
    "        \n",
    "        print(\"\\n-----Bem-vindo ao Jogo da Forca!-----\\n\")\n",
    "        print(\"Descubra a palavra abaixo! Você tem 6 tentativas.\\n\")\n",
    "        \n",
    "        print(f\"Palavra escolhida: {discover}\")\n",
    "        \n",
    "        print(self.forca[6])\n",
    "        \n",
    "        letter = input(\"\\nInforme uma letra: \")\n",
    "        \n",
    "        attempt = getAttemptUser(discover, letter)\n",
    "        \n",
    "        if attempt == True:\n",
    "            print(f\"\\n{letter}\")\n",
    "        else:\n",
    "            print(\"\\nA palavra não contém essa letra!\")"
   ]
  },
  {
   "cell_type": "code",
   "execution_count": 5,
   "id": "f606c662",
   "metadata": {},
   "outputs": [
    {
     "name": "stdout",
     "output_type": "stream",
     "text": [
      "\n",
      "-----Bem-vindo ao Jogo da Forca!-----\n",
      "\n",
      "Descubra a palavra abaixo! Você tem 6 tentativas.\n",
      "\n",
      "Palavra escolhida: Jesus Cristo\n",
      "\n",
      "                         -------\n",
      "                         |     |\n",
      "                         |     O\n",
      "                         |    /|\\\n",
      "                         |     |\n",
      "                         |    / \\ \n",
      "                         \n",
      "                       \n",
      "\n",
      "Informe uma letra: J\n",
      "\n",
      "J\n"
     ]
    }
   ],
   "source": [
    "game = HangmanGame()\n",
    "game.playGame()"
   ]
  },
  {
   "cell_type": "code",
   "execution_count": null,
   "id": "edba2173",
   "metadata": {},
   "outputs": [],
   "source": []
  },
  {
   "cell_type": "code",
   "execution_count": null,
   "id": "1893451c",
   "metadata": {},
   "outputs": [],
   "source": []
  }
 ],
 "metadata": {
  "kernelspec": {
   "display_name": "Python 3",
   "language": "python",
   "name": "python3"
  },
  "language_info": {
   "codemirror_mode": {
    "name": "ipython",
    "version": 3
   },
   "file_extension": ".py",
   "mimetype": "text/x-python",
   "name": "python",
   "nbconvert_exporter": "python",
   "pygments_lexer": "ipython3",
   "version": "3.8.8"
  },
  "vscode": {
   "interpreter": {
    "hash": "807009b257ba14aef66bd97573b06202407f3f8b7205c0e8e3e56bf3a7756b34"
   }
  }
 },
 "nbformat": 4,
 "nbformat_minor": 5
}
