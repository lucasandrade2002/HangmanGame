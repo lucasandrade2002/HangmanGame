{
 "cells": [
  {
   "cell_type": "markdown",
   "id": "9d540e6b",
   "metadata": {},
   "source": [
    "### Funções Jogo da Forca"
   ]
  },
  {
   "cell_type": "code",
   "execution_count": 4,
   "id": "bf25250b",
   "metadata": {},
   "outputs": [],
   "source": [
    "def getWords():\n",
    "    \n",
    "    with open(r\"C:\\workspace\\palavras_jogoForca.txt\", mode=\"r\", encoding=\"utf-8\") as file:\n",
    "        \n",
    "        words_updated = []\n",
    "        words = file.readlines()\n",
    "        \n",
    "        for w in words:\n",
    "            words_updated.append(w.strip(\" \\n\"))\n",
    "            \n",
    "    file.close()\n",
    "    return words_updated"
   ]
  },
  {
   "cell_type": "code",
   "execution_count": 5,
   "id": "13fbb0bb",
   "metadata": {},
   "outputs": [],
   "source": [
    "def getAttemptUser(word_chosen):\n",
    "        \n",
    "        char = input(\"Informe uma letra: \")\n",
    "        hasChar = False\n",
    "        \n",
    "        for el in word_chosen:\n",
    "            if el == char:\n",
    "                hasChar = True\n",
    "                \n",
    "        return char"
   ]
  },
  {
   "cell_type": "code",
   "execution_count": null,
   "id": "1c4af24e",
   "metadata": {},
   "outputs": [],
   "source": []
  }
 ],
 "metadata": {
  "kernelspec": {
   "display_name": "Python 3",
   "language": "python",
   "name": "python3"
  },
  "language_info": {
   "codemirror_mode": {
    "name": "ipython",
    "version": 3
   },
   "file_extension": ".py",
   "mimetype": "text/x-python",
   "name": "python",
   "nbconvert_exporter": "python",
   "pygments_lexer": "ipython3",
   "version": "3.8.8"
  }
 },
 "nbformat": 4,
 "nbformat_minor": 5
}
